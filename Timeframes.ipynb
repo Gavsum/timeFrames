{
 "cells": [
  {
   "cell_type": "code",
   "execution_count": 175,
   "id": "20de48cf",
   "metadata": {},
   "outputs": [],
   "source": [
    "import random\n",
    "def gen():\n",
    "    return round(random.uniform(1,10), 2)\n",
    "\n"
   ]
  },
  {
   "cell_type": "code",
   "execution_count": 138,
   "id": "21900fc2",
   "metadata": {},
   "outputs": [],
   "source": [
    "# Question\n",
    "# Given a limit of no more than 8 posts in any hour block (eg: 2.1 to 3.1, 2.2 to 3.2, etc), \n",
    "# When inserting a new post into the list, what should be checked\n",
    "# A) Window of new.t + 1 and new.t -1\n",
    "# or\n",
    "# B) For each post within new.t+1 and new.t-1, all t+1 and all t-1 of each post in that group\n",
    "\n",
    "\n",
    "# Should be able to just pull all posts t+1 and t-1 and make sure that adding 1 item\n",
    "# To either of those groups does not go above the limit?"
   ]
  },
  {
   "cell_type": "code",
   "execution_count": 204,
   "id": "751bd779",
   "metadata": {},
   "outputs": [],
   "source": [
    "MAX_IN_FRAME = 3\n",
    "\n",
    "def addPost(postList, newPost):\n",
    "    postsAhead = [p for p in postList if (p['t']<= newPost['t'] + 1 and p['t'] >= newPost['t'])]\n",
    "    postsBack = [p for p in postList if (p['t'] >= newPost['t'] - 1 and p['t'] <= newPost['t'])]\n",
    "    \n",
    "    if (len(postsAhead) + 1 > 3):\n",
    "        print(f\"Cant add newPost: {newPost}, over limit of upper group\")\n",
    "        return sorted(postList, key=lambda x: x['t'])\n",
    "    if (len(postsBack) + 1 > 3):\n",
    "        print(f\"Cant add newPost: {newPost}, over limit of lower group\")\n",
    "        return sorted(postList, key=lambda x: x['t'])\n",
    "    \n",
    "    postList.append(newPost)\n",
    "    return sorted(postList, key=lambda x: x['t'])"
   ]
  },
  {
   "cell_type": "code",
   "execution_count": 205,
   "id": "9ff5393f",
   "metadata": {},
   "outputs": [],
   "source": [
    "def addPostMultiCheck(postList, newPost):   \n",
    "    postGroup = [p for p in postList if (p['t'] >= newPost['t'] - 1 and p['t'] <= newPost['t'] + 1)]\n",
    "    sortedGroup = sorted(postGroup, key=lambda x: x['t'])\n",
    "    \n",
    "    while len(sortedGroup) >= MAX_IN_FRAME:\n",
    "        window = sortedGroup.pop(0)['t'] + 1\n",
    "        if (len(list(filter(lambda p: p['t'] <= window, sortedGroup))) + 1 > MAX_IN_FRAME):\n",
    "            print(f\"Cant add newPost: {newPost}, over limit of group up to t: {window}\")\n",
    "            return sorted(postList, key=lambda x: x['t'])\n",
    "    postList.append(newPost)\n",
    "    return sorted(postList, key=lambda x: x['t'])"
   ]
  },
  {
   "cell_type": "code",
   "execution_count": 206,
   "id": "b9fae8a3",
   "metadata": {},
   "outputs": [
    {
     "name": "stdout",
     "output_type": "stream",
     "text": [
      "Adding: {'t': 5.66}\n",
      "------------------------------\n",
      "Adding: {'t': 4.56}\n",
      "------------------------------\n",
      "Adding: {'t': 8.6}\n",
      "------------------------------\n",
      "Adding: {'t': 9.07}\n",
      "------------------------------\n",
      "Adding: {'t': 6.79}\n",
      "------------------------------\n",
      "Adding: {'t': 4.84}\n",
      "------------------------------\n",
      "Adding: {'t': 2.52}\n",
      "------------------------------\n",
      "Adding: {'t': 1.78}\n",
      "------------------------------\n",
      "Adding: {'t': 4.31}\n",
      "------------------------------\n",
      "Adding: {'t': 4.69}\n",
      "------------------------------\n",
      "Adding: {'t': 4.61}\n",
      "Cant add newPost: {'t': 4.61}, over limit of group up to t: 5.31\n",
      "------------------------------\n",
      "Adding: {'t': 8.49}\n",
      "------------------------------\n",
      "Adding: {'t': 1.17}\n",
      "------------------------------\n",
      "Adding: {'t': 7.82}\n",
      "------------------------------\n",
      "Adding: {'t': 1.98}\n",
      "------------------------------\n",
      "Adding: {'t': 9.18}\n",
      "Cant add newPost: {'t': 9.18}, over limit of lower group\n",
      "------------------------------\n",
      "Adding: {'t': 9.65}\n",
      "------------------------------\n",
      "Adding: {'t': 1.42}\n",
      "------------------------------\n",
      "Adding: {'t': 1.09}\n",
      "Cant add newPost: {'t': 1.09}, over limit of upper group\n",
      "Cant add newPost: {'t': 1.09}, over limit of group up to t: 2.17\n",
      "------------------------------\n",
      "Adding: {'t': 2.82}\n",
      "------------------------------\n"
     ]
    }
   ],
   "source": [
    "testGroup1 = []\n",
    "testGroup2 = []\n",
    "\n",
    "for i in range(0, 20):\n",
    "    newPost = {'t': gen()}\n",
    "    print(f\"Adding: {newPost}\")\n",
    "    testGroup1 = addPost(testGroup1, newPost)\n",
    "    testGroup2 = addPostMultiCheck(testGroup2, newPost)\n",
    "    print(\"------------------------------\")\n",
    "    "
   ]
  },
  {
   "cell_type": "code",
   "execution_count": 207,
   "id": "fa47829d",
   "metadata": {},
   "outputs": [
    {
     "data": {
      "text/plain": [
       "[{'t': 1.17},\n",
       " {'t': 1.42},\n",
       " {'t': 1.78},\n",
       " {'t': 1.98},\n",
       " {'t': 2.52},\n",
       " {'t': 2.82},\n",
       " {'t': 4.31},\n",
       " {'t': 4.56},\n",
       " {'t': 4.61},\n",
       " {'t': 4.69},\n",
       " {'t': 4.84},\n",
       " {'t': 5.66},\n",
       " {'t': 6.79},\n",
       " {'t': 7.82},\n",
       " {'t': 8.49},\n",
       " {'t': 8.6},\n",
       " {'t': 9.07},\n",
       " {'t': 9.65}]"
      ]
     },
     "execution_count": 207,
     "metadata": {},
     "output_type": "execute_result"
    }
   ],
   "source": [
    "testGroup1"
   ]
  },
  {
   "cell_type": "code",
   "execution_count": 208,
   "id": "6b2710a2",
   "metadata": {},
   "outputs": [
    {
     "data": {
      "text/plain": [
       "[{'t': 1.17},\n",
       " {'t': 1.42},\n",
       " {'t': 1.78},\n",
       " {'t': 1.98},\n",
       " {'t': 2.52},\n",
       " {'t': 2.82},\n",
       " {'t': 4.31},\n",
       " {'t': 4.56},\n",
       " {'t': 4.69},\n",
       " {'t': 4.84},\n",
       " {'t': 5.66},\n",
       " {'t': 6.79},\n",
       " {'t': 7.82},\n",
       " {'t': 8.49},\n",
       " {'t': 8.6},\n",
       " {'t': 9.07},\n",
       " {'t': 9.18},\n",
       " {'t': 9.65}]"
      ]
     },
     "execution_count": 208,
     "metadata": {},
     "output_type": "execute_result"
    }
   ],
   "source": [
    "testGroup2"
   ]
  },
  {
   "cell_type": "code",
   "execution_count": 209,
   "id": "3b3b2c08",
   "metadata": {},
   "outputs": [],
   "source": [
    "def rgb():\n",
    "    return (random.random(), random.random(), random.random())"
   ]
  },
  {
   "cell_type": "code",
   "execution_count": 210,
   "id": "02409412",
   "metadata": {},
   "outputs": [
    {
     "data": {
      "text/plain": [
       "(0.0, 10.0)"
      ]
     },
     "execution_count": 210,
     "metadata": {},
     "output_type": "execute_result"
    },
    {
     "data": {
      "image/png": "[encoded data removed]",
      "text/plain": [
       "<Figure size 640x480 with 1 Axes>"
      ]
     },
     "metadata": {},
     "output_type": "display_data"
    }
   ],
   "source": [
    "import pandas as pd\n",
    "formatted = [{**x, 'a': 1} for x in testGroup1]\n",
    "formatted\n",
    "df = pd.DataFrame(data=formatted)\n",
    "ax = df.plot.scatter(x='t', y='a', title='Simple Checks')\n",
    "ax.set_xlim(0, 10)"
   ]
  },
  {
   "cell_type": "code",
   "execution_count": 211,
   "id": "e4484e4e",
   "metadata": {},
   "outputs": [
    {
     "name": "stdout",
     "output_type": "stream",
     "text": [
      "{'t': 1.17}\n",
      "postsBack: [{'t': 1.17}]\n",
      "postsAhead: [{'t': 1.17}, {'t': 1.42}, {'t': 1.78}, {'t': 1.98}]\n",
      "ERROR: post {'t': 1.17} over limit of lower time frame: [{'t': 1.17}, {'t': 1.42}, {'t': 1.78}, {'t': 1.98}]\n",
      "***********************\n",
      "{'t': 1.42}\n",
      "postsBack: [{'t': 1.17}, {'t': 1.42}]\n",
      "postsAhead: [{'t': 1.42}, {'t': 1.78}, {'t': 1.98}]\n",
      "***********************\n",
      "{'t': 1.78}\n",
      "postsBack: [{'t': 1.17}, {'t': 1.42}, {'t': 1.78}]\n",
      "postsAhead: [{'t': 1.78}, {'t': 1.98}, {'t': 2.52}]\n",
      "***********************\n",
      "{'t': 1.98}\n",
      "postsBack: [{'t': 1.17}, {'t': 1.42}, {'t': 1.78}, {'t': 1.98}]\n",
      "postsAhead: [{'t': 1.98}, {'t': 2.52}, {'t': 2.82}]\n",
      "ERROR: post {'t': 1.98} over limit of lower time frame: [{'t': 1.17}, {'t': 1.42}, {'t': 1.78}, {'t': 1.98}]\n",
      "***********************\n",
      "{'t': 2.52}\n",
      "postsBack: [{'t': 1.78}, {'t': 1.98}, {'t': 2.52}]\n",
      "postsAhead: [{'t': 2.52}, {'t': 2.82}]\n",
      "***********************\n",
      "{'t': 2.82}\n",
      "postsBack: [{'t': 1.98}, {'t': 2.52}, {'t': 2.82}]\n",
      "postsAhead: [{'t': 2.82}]\n",
      "***********************\n",
      "{'t': 4.31}\n",
      "postsBack: [{'t': 4.31}]\n",
      "postsAhead: [{'t': 4.31}, {'t': 4.56}, {'t': 4.61}, {'t': 4.69}, {'t': 4.84}]\n",
      "ERROR: post {'t': 4.31} over limit of lower time frame: [{'t': 4.31}, {'t': 4.56}, {'t': 4.61}, {'t': 4.69}, {'t': 4.84}]\n",
      "***********************\n",
      "{'t': 4.56}\n",
      "postsBack: [{'t': 4.31}, {'t': 4.56}]\n",
      "postsAhead: [{'t': 4.56}, {'t': 4.61}, {'t': 4.69}, {'t': 4.84}]\n",
      "ERROR: post {'t': 4.56} over limit of lower time frame: [{'t': 4.56}, {'t': 4.61}, {'t': 4.69}, {'t': 4.84}]\n",
      "***********************\n",
      "{'t': 4.61}\n",
      "postsBack: [{'t': 4.31}, {'t': 4.56}, {'t': 4.61}]\n",
      "postsAhead: [{'t': 4.61}, {'t': 4.69}, {'t': 4.84}]\n",
      "***********************\n",
      "{'t': 4.69}\n",
      "postsBack: [{'t': 4.31}, {'t': 4.56}, {'t': 4.61}, {'t': 4.69}]\n",
      "postsAhead: [{'t': 4.69}, {'t': 4.84}, {'t': 5.66}]\n",
      "ERROR: post {'t': 4.69} over limit of lower time frame: [{'t': 4.31}, {'t': 4.56}, {'t': 4.61}, {'t': 4.69}]\n",
      "***********************\n",
      "{'t': 4.84}\n",
      "postsBack: [{'t': 4.31}, {'t': 4.56}, {'t': 4.61}, {'t': 4.69}, {'t': 4.84}]\n",
      "postsAhead: [{'t': 4.84}, {'t': 5.66}]\n",
      "ERROR: post {'t': 4.84} over limit of lower time frame: [{'t': 4.31}, {'t': 4.56}, {'t': 4.61}, {'t': 4.69}, {'t': 4.84}]\n",
      "***********************\n",
      "{'t': 5.66}\n",
      "postsBack: [{'t': 4.69}, {'t': 4.84}, {'t': 5.66}]\n",
      "postsAhead: [{'t': 5.66}]\n",
      "***********************\n",
      "{'t': 6.79}\n",
      "postsBack: [{'t': 6.79}]\n",
      "postsAhead: [{'t': 6.79}]\n",
      "***********************\n",
      "{'t': 7.82}\n",
      "postsBack: [{'t': 7.82}]\n",
      "postsAhead: [{'t': 7.82}, {'t': 8.49}, {'t': 8.6}]\n",
      "***********************\n",
      "{'t': 8.49}\n",
      "postsBack: [{'t': 7.82}, {'t': 8.49}]\n",
      "postsAhead: [{'t': 8.49}, {'t': 8.6}, {'t': 9.07}]\n",
      "***********************\n",
      "{'t': 8.6}\n",
      "postsBack: [{'t': 7.82}, {'t': 8.49}, {'t': 8.6}]\n",
      "postsAhead: [{'t': 8.6}, {'t': 9.07}]\n",
      "***********************\n",
      "{'t': 9.07}\n",
      "postsBack: [{'t': 8.49}, {'t': 8.6}, {'t': 9.07}]\n",
      "postsAhead: [{'t': 9.07}, {'t': 9.65}]\n",
      "***********************\n",
      "{'t': 9.65}\n",
      "postsBack: [{'t': 9.07}, {'t': 9.65}]\n",
      "postsAhead: [{'t': 9.65}]\n",
      "***********************\n"
     ]
    }
   ],
   "source": [
    "checkPosts(testGroup1)"
   ]
  },
  {
   "cell_type": "code",
   "execution_count": 196,
   "id": "af961625",
   "metadata": {},
   "outputs": [
    {
     "data": {
      "text/plain": [
       "[{'t': 2.1},\n",
       " {'t': 2.34},\n",
       " {'t': 2.6},\n",
       " {'t': 3.26},\n",
       " {'t': 4.06},\n",
       " {'t': 4.16},\n",
       " {'t': 4.17},\n",
       " {'t': 4.75},\n",
       " {'t': 5.48},\n",
       " {'t': 5.5},\n",
       " {'t': 5.76},\n",
       " {'t': 6.78},\n",
       " {'t': 7.65},\n",
       " {'t': 9.32},\n",
       " {'t': 9.81},\n",
       " {'t': 9.92}]"
      ]
     },
     "execution_count": 196,
     "metadata": {},
     "output_type": "execute_result"
    }
   ],
   "source": [
    "testGroup1"
   ]
  },
  {
   "cell_type": "code",
   "execution_count": 184,
   "id": "9ebca3eb",
   "metadata": {},
   "outputs": [
    {
     "data": {
      "text/plain": [
       "(0.0, 10.0)"
      ]
     },
     "execution_count": 184,
     "metadata": {},
     "output_type": "execute_result"
    },
    {
     "data": {
      "image/png": "[encoded data removed]",
      "text/plain": [
       "<Figure size 640x480 with 1 Axes>"
      ]
     },
     "metadata": {},
     "output_type": "display_data"
    }
   ],
   "source": [
    "formatted = [{**x, 'a': 1} for x in testGroup2]\n",
    "formatted\n",
    "df = pd.DataFrame(data=formatted)\n",
    "ax = df.plot.scatter(x='t', y='a', title='Multi Checks')\n",
    "ax.set_xlim(0, 10)"
   ]
  },
  {
   "cell_type": "code",
   "execution_count": 212,
   "id": "31260264",
   "metadata": {},
   "outputs": [
    {
     "name": "stdout",
     "output_type": "stream",
     "text": [
      "{'t': 1.17}\n",
      "postsBack: [{'t': 1.17}]\n",
      "postsAhead: [{'t': 1.17}, {'t': 1.42}, {'t': 1.78}, {'t': 1.98}]\n",
      "ERROR: post {'t': 1.17} over limit of lower time frame: [{'t': 1.17}, {'t': 1.42}, {'t': 1.78}, {'t': 1.98}]\n",
      "***********************\n",
      "{'t': 1.42}\n",
      "postsBack: [{'t': 1.17}, {'t': 1.42}]\n",
      "postsAhead: [{'t': 1.42}, {'t': 1.78}, {'t': 1.98}]\n",
      "***********************\n",
      "{'t': 1.78}\n",
      "postsBack: [{'t': 1.17}, {'t': 1.42}, {'t': 1.78}]\n",
      "postsAhead: [{'t': 1.78}, {'t': 1.98}, {'t': 2.52}]\n",
      "***********************\n",
      "{'t': 1.98}\n",
      "postsBack: [{'t': 1.17}, {'t': 1.42}, {'t': 1.78}, {'t': 1.98}]\n",
      "postsAhead: [{'t': 1.98}, {'t': 2.52}, {'t': 2.82}]\n",
      "ERROR: post {'t': 1.98} over limit of lower time frame: [{'t': 1.17}, {'t': 1.42}, {'t': 1.78}, {'t': 1.98}]\n",
      "***********************\n",
      "{'t': 2.52}\n",
      "postsBack: [{'t': 1.78}, {'t': 1.98}, {'t': 2.52}]\n",
      "postsAhead: [{'t': 2.52}, {'t': 2.82}]\n",
      "***********************\n",
      "{'t': 2.82}\n",
      "postsBack: [{'t': 1.98}, {'t': 2.52}, {'t': 2.82}]\n",
      "postsAhead: [{'t': 2.82}]\n",
      "***********************\n",
      "{'t': 4.31}\n",
      "postsBack: [{'t': 4.31}]\n",
      "postsAhead: [{'t': 4.31}, {'t': 4.56}, {'t': 4.69}, {'t': 4.84}]\n",
      "ERROR: post {'t': 4.31} over limit of lower time frame: [{'t': 4.31}, {'t': 4.56}, {'t': 4.69}, {'t': 4.84}]\n",
      "***********************\n",
      "{'t': 4.56}\n",
      "postsBack: [{'t': 4.31}, {'t': 4.56}]\n",
      "postsAhead: [{'t': 4.56}, {'t': 4.69}, {'t': 4.84}]\n",
      "***********************\n",
      "{'t': 4.69}\n",
      "postsBack: [{'t': 4.31}, {'t': 4.56}, {'t': 4.69}]\n",
      "postsAhead: [{'t': 4.69}, {'t': 4.84}, {'t': 5.66}]\n",
      "***********************\n",
      "{'t': 4.84}\n",
      "postsBack: [{'t': 4.31}, {'t': 4.56}, {'t': 4.69}, {'t': 4.84}]\n",
      "postsAhead: [{'t': 4.84}, {'t': 5.66}]\n",
      "ERROR: post {'t': 4.84} over limit of lower time frame: [{'t': 4.31}, {'t': 4.56}, {'t': 4.69}, {'t': 4.84}]\n",
      "***********************\n",
      "{'t': 5.66}\n",
      "postsBack: [{'t': 4.69}, {'t': 4.84}, {'t': 5.66}]\n",
      "postsAhead: [{'t': 5.66}]\n",
      "***********************\n",
      "{'t': 6.79}\n",
      "postsBack: [{'t': 6.79}]\n",
      "postsAhead: [{'t': 6.79}]\n",
      "***********************\n",
      "{'t': 7.82}\n",
      "postsBack: [{'t': 7.82}]\n",
      "postsAhead: [{'t': 7.82}, {'t': 8.49}, {'t': 8.6}]\n",
      "***********************\n",
      "{'t': 8.49}\n",
      "postsBack: [{'t': 7.82}, {'t': 8.49}]\n",
      "postsAhead: [{'t': 8.49}, {'t': 8.6}, {'t': 9.07}, {'t': 9.18}]\n",
      "ERROR: post {'t': 8.49} over limit of lower time frame: [{'t': 8.49}, {'t': 8.6}, {'t': 9.07}, {'t': 9.18}]\n",
      "***********************\n",
      "{'t': 8.6}\n",
      "postsBack: [{'t': 7.82}, {'t': 8.49}, {'t': 8.6}]\n",
      "postsAhead: [{'t': 8.6}, {'t': 9.07}, {'t': 9.18}]\n",
      "***********************\n",
      "{'t': 9.07}\n",
      "postsBack: [{'t': 8.49}, {'t': 8.6}, {'t': 9.07}]\n",
      "postsAhead: [{'t': 9.07}, {'t': 9.18}, {'t': 9.65}]\n",
      "***********************\n",
      "{'t': 9.18}\n",
      "postsBack: [{'t': 8.49}, {'t': 8.6}, {'t': 9.07}, {'t': 9.18}]\n",
      "postsAhead: [{'t': 9.18}, {'t': 9.65}]\n",
      "ERROR: post {'t': 9.18} over limit of lower time frame: [{'t': 8.49}, {'t': 8.6}, {'t': 9.07}, {'t': 9.18}]\n",
      "***********************\n",
      "{'t': 9.65}\n",
      "postsBack: [{'t': 9.07}, {'t': 9.18}, {'t': 9.65}]\n",
      "postsAhead: [{'t': 9.65}]\n",
      "***********************\n"
     ]
    }
   ],
   "source": [
    "checkPosts(testGroup2)"
   ]
  },
  {
   "cell_type": "code",
   "execution_count": 213,
   "id": "ad6e7aa8",
   "metadata": {},
   "outputs": [],
   "source": [
    "\n",
    "def checkPosts(posts):\n",
    "    for post in posts:\n",
    "        print(post)\n",
    "        postsBack = [p for p in posts if (p['t'] >= post['t'] - 1 and p['t'] <= post['t'])]\n",
    "        print(f\"postsBack: {postsBack}\")\n",
    "        postsAhead = [p for p in posts if (p['t']<= post['t'] + 1 and p['t'] >= post['t'])]\n",
    "        print(f\"postsAhead: {postsAhead}\")\n",
    "        if(len(postsBack) > MAX_IN_FRAME):\n",
    "            print(f\"ERROR: post {post} over limit of lower time frame: {postsBack}\")\n",
    "        if(len(postsAhead) > MAX_IN_FRAME):\n",
    "            print(f\"ERROR: post {post} over limit of lower time frame: {postsAhead}\")\n",
    "        print(\"***********************\")\n"
   ]
  },
  {
   "cell_type": "code",
   "execution_count": null,
   "id": "ef625202",
   "metadata": {},
   "outputs": [],
   "source": []
  }
 ],
 "metadata": {
  "kernelspec": {
   "display_name": "Python 3 (ipykernel)",
   "language": "python",
   "name": "python3"
  },
  "language_info": {
   "codemirror_mode": {
    "name": "ipython",
    "version": 3
   },
   "file_extension": ".py",
   "mimetype": "text/x-python",
   "name": "python",
   "nbconvert_exporter": "python",
   "pygments_lexer": "ipython3",
   "version": "3.9.5"
  }
 },
 "nbformat": 4,
 "nbformat_minor": 5
}
