{
 "cells": [
  {
   "cell_type": "code",
   "execution_count": 175,
   "id": "4559f08d",
   "metadata": {},
   "outputs": [],
   "source": [
    "import random\n",
    "def gen():\n",
    "    return round(random.uniform(1,10), 2)\n",
    "\n"
   ]
  },
  {
   "cell_type": "code",
   "execution_count": 138,
   "id": "6937264b",
   "metadata": {},
   "outputs": [],
   "source": [
    "# Question\n",
    "# Given a limit of no more than 8 posts in any hour block (eg: 2.1 to 3.1, 2.2 to 3.2, etc), \n",
    "# When inserting a new post into the list, what should be checked\n",
    "# A) Window of new.t + 1 and new.t -1\n",
    "# or\n",
    "# B) For each post within new.t+1 and new.t-1, all t+1 and all t-1 of each post in that group\n",
    "\n",
    "\n",
    "# Should be able to just pull all posts t+1 and t-1 and make sure that adding 1 item\n",
    "# To either of those groups does not go above the limit?"
   ]
  },
  {
   "cell_type": "code",
   "execution_count": 176,
   "id": "044c3892",
   "metadata": {},
   "outputs": [],
   "source": [
    "MAX_IN_FRAME = 3\n",
    "\n",
    "def addPost(postList, newPost):\n",
    "    postsAhead = [p for p in postList if (p['t']<= newPost['t'] + 1 and p['t'] >= newPost['t'])]\n",
    "    postsBack = [p for p in postList if (p['t'] >= newPost['t'] - 1 and p['t'] <= newPost['t'])]\n",
    "    \n",
    "    if (len(postsAhead) + 1 > 3):\n",
    "        print(f\"Cant add newPost: {newPost}, over limit of upper group\")\n",
    "        return sorted(postList, key=lambda x: x['t'])\n",
    "    if (len(postsBack) + 1 > 3):\n",
    "        print(f\"Cant add newPost: {newPost}, over limit of lower group\")\n",
    "        return sorted(postList, key=lambda x: x['t'])\n",
    "    \n",
    "    postList.append(newPost)\n",
    "    return sorted(postList, key=lambda x: x['t'])"
   ]
  },
  {
   "cell_type": "code",
   "execution_count": 177,
   "id": "6e1c48f8",
   "metadata": {},
   "outputs": [],
   "source": [
    "def addPostMultiCheck(postList, newPost):   \n",
    "    postGroup = [p for p in postList if (p['t'] >= newPost['t'] - 1 and p['t'] <= newPost['t'] + 1)]\n",
    "    sortedGroup = sorted(postGroup, key=lambda x: x['t'])\n",
    "    \n",
    "    while len(sortedGroup) >= MAX_IN_FRAME:\n",
    "        window = sortedGroup.pop(0)['t'] + 1\n",
    "        if (len(list(filter(lambda p: p['t'] <= window, sortedGroup))) + 1 > MAX_IN_FRAME):\n",
    "            print(f\"Cant add newPost: {newPost}, over limit of group up to t: {window}\")\n",
    "            return sorted(postList, key=lambda x: x['t'])\n",
    "    postList.append(newPost)\n",
    "    return sorted(postList, key=lambda x: x['t'])"
   ]
  },
  {
   "cell_type": "code",
   "execution_count": 178,
   "id": "d3c32f8a",
   "metadata": {},
   "outputs": [
    {
     "name": "stdout",
     "output_type": "stream",
     "text": [
      "Adding: {'t': 6.78}\n",
      "------------------------------\n",
      "Adding: {'t': 3.26}\n",
      "------------------------------\n",
      "Adding: {'t': 9.92}\n",
      "------------------------------\n",
      "Adding: {'t': 5.5}\n",
      "------------------------------\n",
      "Adding: {'t': 4.17}\n",
      "------------------------------\n",
      "Adding: {'t': 5.48}\n",
      "------------------------------\n",
      "Adding: {'t': 2.1}\n",
      "------------------------------\n",
      "Adding: {'t': 2.34}\n",
      "------------------------------\n",
      "Adding: {'t': 4.75}\n",
      "------------------------------\n",
      "Adding: {'t': 5.76}\n",
      "------------------------------\n",
      "Adding: {'t': 5.44}\n",
      "Cant add newPost: {'t': 5.44}, over limit of upper group\n",
      "------------------------------\n",
      "Adding: {'t': 7.65}\n",
      "------------------------------\n",
      "Adding: {'t': 9.32}\n",
      "------------------------------\n",
      "Adding: {'t': 4.62}\n",
      "Cant add newPost: {'t': 4.62}, over limit of upper group\n",
      "Cant add newPost: {'t': 4.62}, over limit of group up to t: 5.75\n",
      "------------------------------\n",
      "Adding: {'t': 4.06}\n",
      "------------------------------\n",
      "Adding: {'t': 9.81}\n",
      "------------------------------\n",
      "Adding: {'t': 9.97}\n",
      "Cant add newPost: {'t': 9.97}, over limit of lower group\n",
      "------------------------------\n",
      "Adding: {'t': 4.16}\n",
      "------------------------------\n",
      "Adding: {'t': 6.08}\n",
      "Cant add newPost: {'t': 6.08}, over limit of lower group\n",
      "Cant add newPost: {'t': 6.08}, over limit of group up to t: 6.44\n",
      "------------------------------\n",
      "Adding: {'t': 2.6}\n",
      "------------------------------\n"
     ]
    }
   ],
   "source": [
    "testGroup1 = []\n",
    "testGroup2 = []\n",
    "\n",
    "for i in range(0, 20):\n",
    "    newPost = {'t': gen()}\n",
    "    print(f\"Adding: {newPost}\")\n",
    "    testGroup1 = addPost(testGroup1, newPost)\n",
    "    testGroup2 = addPostMultiCheck(testGroup2, newPost)\n",
    "    print(\"------------------------------\")\n",
    "    "
   ]
  },
  {
   "cell_type": "code",
   "execution_count": 179,
   "id": "95bfabd9",
   "metadata": {},
   "outputs": [
    {
     "data": {
      "text/plain": [
       "[{'t': 2.1},\n",
       " {'t': 2.34},\n",
       " {'t': 2.6},\n",
       " {'t': 3.26},\n",
       " {'t': 4.06},\n",
       " {'t': 4.16},\n",
       " {'t': 4.17},\n",
       " {'t': 4.75},\n",
       " {'t': 5.48},\n",
       " {'t': 5.5},\n",
       " {'t': 5.76},\n",
       " {'t': 6.78},\n",
       " {'t': 7.65},\n",
       " {'t': 9.32},\n",
       " {'t': 9.81},\n",
       " {'t': 9.92}]"
      ]
     },
     "execution_count": 179,
     "metadata": {},
     "output_type": "execute_result"
    }
   ],
   "source": [
    "testGroup1"
   ]
  },
  {
   "cell_type": "code",
   "execution_count": 180,
   "id": "82bf71da",
   "metadata": {},
   "outputs": [
    {
     "data": {
      "text/plain": [
       "[{'t': 2.1},\n",
       " {'t': 2.34},\n",
       " {'t': 2.6},\n",
       " {'t': 3.26},\n",
       " {'t': 4.06},\n",
       " {'t': 4.16},\n",
       " {'t': 4.17},\n",
       " {'t': 4.75},\n",
       " {'t': 5.44},\n",
       " {'t': 5.48},\n",
       " {'t': 5.5},\n",
       " {'t': 5.76},\n",
       " {'t': 6.78},\n",
       " {'t': 7.65},\n",
       " {'t': 9.32},\n",
       " {'t': 9.81},\n",
       " {'t': 9.92},\n",
       " {'t': 9.97}]"
      ]
     },
     "execution_count": 180,
     "metadata": {},
     "output_type": "execute_result"
    }
   ],
   "source": [
    "testGroup2"
   ]
  },
  {
   "cell_type": "code",
   "execution_count": 181,
   "id": "867ea7a4",
   "metadata": {},
   "outputs": [],
   "source": [
    "def rgb():\n",
    "    return (random.random(), random.random(), random.random())"
   ]
  },
  {
   "cell_type": "code",
   "execution_count": 182,
   "id": "6ed602f6",
   "metadata": {},
   "outputs": [
    {
     "data": {
      "text/plain": [
       "(0.0, 10.0)"
      ]
     },
     "execution_count": 182,
     "metadata": {},
     "output_type": "execute_result"
    },
    {
     "data": {
      "image/png": "[encoded data removed]",
      "text/plain": [
       "<Figure size 640x480 with 1 Axes>"
      ]
     },
     "metadata": {},
     "output_type": "display_data"
    }
   ],
   "source": [
    "import pandas as pd\n",
    "formatted = [{**x, 'a': 1} for x in testGroup1]\n",
    "formatted\n",
    "df = pd.DataFrame(data=formatted)\n",
    "ax = df.plot.scatter(x='t', y='a', title='Simple Checks')\n",
    "ax.set_xlim(0, 10)"
   ]
  },
  {
   "cell_type": "code",
   "execution_count": 191,
   "id": "650eb03c",
   "metadata": {},
   "outputs": [
    {
     "name": "stdout",
     "output_type": "stream",
     "text": [
      "ERROR: post {'t': 3.26} over limit of lower time frame: [{'t': 3.26}, {'t': 4.06}, {'t': 4.16}, {'t': 4.17}]\n",
      "ERROR: post {'t': 4.06} over limit of lower time frame: [{'t': 4.06}, {'t': 4.16}, {'t': 4.17}, {'t': 4.75}]\n",
      "ERROR: post {'t': 4.17} over limit of lower time frame: [{'t': 3.26}, {'t': 4.06}, {'t': 4.16}, {'t': 4.17}]\n",
      "ERROR: post {'t': 4.75} over limit of lower time frame: [{'t': 4.06}, {'t': 4.16}, {'t': 4.17}, {'t': 4.75}]\n"
     ]
    }
   ],
   "source": [
    "checkPosts(testGroup1)"
   ]
  },
  {
   "cell_type": "code",
   "execution_count": 192,
   "id": "b83ee4c8",
   "metadata": {},
   "outputs": [
    {
     "data": {
      "text/plain": [
       "[{'t': 2.1},\n",
       " {'t': 2.34},\n",
       " {'t': 2.6},\n",
       " {'t': 3.26},\n",
       " {'t': 4.06},\n",
       " {'t': 4.16},\n",
       " {'t': 4.17},\n",
       " {'t': 4.75},\n",
       " {'t': 5.48},\n",
       " {'t': 5.5},\n",
       " {'t': 5.76},\n",
       " {'t': 6.78},\n",
       " {'t': 7.65},\n",
       " {'t': 9.32},\n",
       " {'t': 9.81},\n",
       " {'t': 9.92}]"
      ]
     },
     "execution_count": 192,
     "metadata": {},
     "output_type": "execute_result"
    }
   ],
   "source": [
    "testGroup1"
   ]
  },
  {
   "cell_type": "code",
   "execution_count": 184,
   "id": "42872552",
   "metadata": {},
   "outputs": [
    {
     "data": {
      "text/plain": [
       "(0.0, 10.0)"
      ]
     },
     "execution_count": 184,
     "metadata": {},
     "output_type": "execute_result"
    },
    {
     "data": {
      "image/png": "[encoded data removed]",
      "text/plain": [
       "<Figure size 640x480 with 1 Axes>"
      ]
     },
     "metadata": {},
     "output_type": "display_data"
    }
   ],
   "source": [
    "formatted = [{**x, 'a': 1} for x in testGroup2]\n",
    "formatted\n",
    "df = pd.DataFrame(data=formatted)\n",
    "ax = df.plot.scatter(x='t', y='a', title='Multi Checks')\n",
    "ax.set_xlim(0, 10)"
   ]
  },
  {
   "cell_type": "code",
   "execution_count": 190,
   "id": "a2833fba",
   "metadata": {},
   "outputs": [
    {
     "name": "stdout",
     "output_type": "stream",
     "text": [
      "ERROR: post {'t': 3.26} over limit of lower time frame: [{'t': 3.26}, {'t': 4.06}, {'t': 4.16}, {'t': 4.17}]\n",
      "ERROR: post {'t': 4.06} over limit of lower time frame: [{'t': 4.06}, {'t': 4.16}, {'t': 4.17}, {'t': 4.75}]\n",
      "ERROR: post {'t': 4.17} over limit of lower time frame: [{'t': 3.26}, {'t': 4.06}, {'t': 4.16}, {'t': 4.17}]\n",
      "ERROR: post {'t': 4.75} over limit of lower time frame: [{'t': 4.06}, {'t': 4.16}, {'t': 4.17}, {'t': 4.75}]\n",
      "ERROR: post {'t': 4.75} over limit of lower time frame: [{'t': 4.75}, {'t': 5.44}, {'t': 5.48}, {'t': 5.5}]\n",
      "ERROR: post {'t': 5.44} over limit of lower time frame: [{'t': 5.44}, {'t': 5.48}, {'t': 5.5}, {'t': 5.76}]\n",
      "ERROR: post {'t': 5.5} over limit of lower time frame: [{'t': 4.75}, {'t': 5.44}, {'t': 5.48}, {'t': 5.5}]\n",
      "ERROR: post {'t': 5.76} over limit of lower time frame: [{'t': 5.44}, {'t': 5.48}, {'t': 5.5}, {'t': 5.76}]\n",
      "ERROR: post {'t': 9.32} over limit of lower time frame: [{'t': 9.32}, {'t': 9.81}, {'t': 9.92}, {'t': 9.97}]\n",
      "ERROR: post {'t': 9.97} over limit of lower time frame: [{'t': 9.32}, {'t': 9.81}, {'t': 9.92}, {'t': 9.97}]\n"
     ]
    }
   ],
   "source": [
    "checkPosts(testGroup2)"
   ]
  },
  {
   "cell_type": "code",
   "execution_count": 193,
   "id": "d3723467",
   "metadata": {},
   "outputs": [
    {
     "data": {
      "text/plain": [
       "[{'t': 2.1},\n",
       " {'t': 2.34},\n",
       " {'t': 2.6},\n",
       " {'t': 3.26},\n",
       " {'t': 4.06},\n",
       " {'t': 4.16},\n",
       " {'t': 4.17},\n",
       " {'t': 4.75},\n",
       " {'t': 5.44},\n",
       " {'t': 5.48},\n",
       " {'t': 5.5},\n",
       " {'t': 5.76},\n",
       " {'t': 6.78},\n",
       " {'t': 7.65},\n",
       " {'t': 9.32},\n",
       " {'t': 9.81},\n",
       " {'t': 9.92},\n",
       " {'t': 9.97}]"
      ]
     },
     "execution_count": 193,
     "metadata": {},
     "output_type": "execute_result"
    }
   ],
   "source": [
    "testGroup2"
   ]
  },
  {
   "cell_type": "code",
   "execution_count": 189,
   "id": "ce63d9a5",
   "metadata": {},
   "outputs": [],
   "source": [
    "\n",
    "def checkPosts(posts):\n",
    "    for post in posts:\n",
    "        postsBack = [p for p in posts if (p['t'] >= post['t'] - 1 and p['t'] <= post['t'])]\n",
    "        postsAhead = [p for p in posts if (p['t']<= post['t'] + 1 and p['t'] >= post['t'])]\n",
    "        if(len(postsBack) > MAX_IN_FRAME):\n",
    "            print(f\"ERROR: post {post} over limit of lower time frame: {postsBack}\")\n",
    "        if(len(postsAhead) > MAX_IN_FRAME):\n",
    "            print(f\"ERROR: post {post} over limit of lower time frame: {postsAhead}\")\n"
   ]
  },
  {
   "cell_type": "code",
   "execution_count": null,
   "id": "77ada8c9",
   "metadata": {},
   "outputs": [],
   "source": []
  }
 ],
 "metadata": {
  "kernelspec": {
   "display_name": "Python 3 (ipykernel)",
   "language": "python",
   "name": "python3"
  },
  "language_info": {
   "codemirror_mode": {
    "name": "ipython",
    "version": 3
   },
   "file_extension": ".py",
   "mimetype": "text/x-python",
   "name": "python",
   "nbconvert_exporter": "python",
   "pygments_lexer": "ipython3",
   "version": "3.9.5"
  }
 },
 "nbformat": 4,
 "nbformat_minor": 5
}
