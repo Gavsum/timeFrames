{
 "cells": [
  {
   "cell_type": "code",
   "execution_count": 4,
   "id": "20de48cf",
   "metadata": {},
   "outputs": [],
   "source": [
    "import random\n",
    "def gen():\n",
    "    return round(random.uniform(1,10), 2)\n",
    "\n"
   ]
  },
  {
   "cell_type": "code",
   "execution_count": 19,
   "id": "751bd779",
   "metadata": {},
   "outputs": [],
   "source": [
    "MAX_IN_FRAME = 3\n",
    "\n",
    "def addPost(postList, newPost):\n",
    "    postsAhead = [p for p in postList if (p['t']<= newPost['t'] + 1 and p['t'] >= newPost['t'])]\n",
    "    postsBack = [p for p in postList if (p['t'] >= newPost['t'] - 1 and p['t'] <= newPost['t'])]\n",
    "    \n",
    "    if (len(postsAhead) + 1 > MAX_IN_FRAME):\n",
    "        print(f\"Cant add newPost: {newPost}, over limit of upper group\")\n",
    "        return sorted(postList, key=lambda x: x['t'])\n",
    "    if (len(postsBack) + 1 > MAX_IN_FRAME):\n",
    "        print(f\"Cant add newPost: {newPost}, over limit of lower group\")\n",
    "        return sorted(postList, key=lambda x: x['t'])\n",
    "    \n",
    "    postList.append(newPost)\n",
    "    return sorted(postList, key=lambda x: x['t'])"
   ]
  },
  {
   "cell_type": "code",
   "execution_count": 20,
   "id": "9ff5393f",
   "metadata": {},
   "outputs": [],
   "source": [
    "def addPostMultiCheck(postList, newPost):   \n",
    "    postGroup = [p for p in postList if (p['t'] >= newPost['t'] - 1 and p['t'] <= newPost['t'] + 1)]\n",
    "    sortedGroup = sorted(postGroup, key=lambda x: x['t'])\n",
    "    \n",
    "    while len(sortedGroup) >= MAX_IN_FRAME:\n",
    "        window = sortedGroup.pop(0)['t'] + 1\n",
    "        if (len(list(filter(lambda p: p['t'] <= window, sortedGroup))) + 1 > MAX_IN_FRAME):\n",
    "            print(f\"Cant add newPost: {newPost}, over limit of group up to t: {window}\")\n",
    "            return sorted(postList, key=lambda x: x['t'])\n",
    "    postList.append(newPost)\n",
    "    return sorted(postList, key=lambda x: x['t'])"
   ]
  },
  {
   "cell_type": "code",
   "execution_count": 21,
   "id": "36b70e6e",
   "metadata": {},
   "outputs": [],
   "source": [
    "def checkPosts(posts):\n",
    "    for post in posts:\n",
    "        print(post)\n",
    "        postsBack = [p for p in posts if (p['t'] >= post['t'] - 1 and p['t'] <= post['t'])]\n",
    "        print(f\"postsBack: {postsBack}\")\n",
    "        postsAhead = [p for p in posts if (p['t']<= post['t'] + 1 and p['t'] >= post['t'])]\n",
    "        print(f\"postsAhead: {postsAhead}\")\n",
    "        if(len(postsBack) > MAX_IN_FRAME):\n",
    "            print(f\"ERROR: post {post} over limit of lower time frame: {postsBack}\")\n",
    "        if(len(postsAhead) > MAX_IN_FRAME):\n",
    "            print(f\"ERROR: post {post} over limit of lower time frame: {postsAhead}\")\n",
    "        print(\"***********************\")"
   ]
  },
  {
   "cell_type": "code",
   "execution_count": 22,
   "id": "b9fae8a3",
   "metadata": {},
   "outputs": [
    {
     "name": "stdout",
     "output_type": "stream",
     "text": [
      "Adding: {'t': 1.04}\n",
      "------------------------------\n",
      "Adding: {'t': 8.62}\n",
      "------------------------------\n",
      "Adding: {'t': 8.17}\n",
      "------------------------------\n",
      "Adding: {'t': 4.08}\n",
      "------------------------------\n",
      "Adding: {'t': 8.95}\n",
      "------------------------------\n",
      "Adding: {'t': 2.51}\n",
      "------------------------------\n",
      "Adding: {'t': 5.43}\n",
      "------------------------------\n",
      "Adding: {'t': 7.01}\n",
      "------------------------------\n",
      "Adding: {'t': 7.09}\n",
      "------------------------------\n",
      "Adding: {'t': 1.31}\n",
      "------------------------------\n",
      "Adding: {'t': 6.59}\n",
      "------------------------------\n",
      "Adding: {'t': 5.01}\n",
      "------------------------------\n",
      "Adding: {'t': 8.73}\n",
      "------------------------------\n",
      "Adding: {'t': 3.68}\n",
      "------------------------------\n",
      "Adding: {'t': 9.67}\n",
      "------------------------------\n",
      "Adding: {'t': 5.36}\n",
      "------------------------------\n",
      "Adding: {'t': 4.35}\n",
      "------------------------------\n",
      "Adding: {'t': 4.78}\n",
      "Cant add newPost: {'t': 4.78}, over limit of upper group\n",
      "------------------------------\n",
      "Adding: {'t': 1.28}\n",
      "------------------------------\n",
      "Adding: {'t': 8.5}\n",
      "Cant add newPost: {'t': 8.5}, over limit of upper group\n",
      "Cant add newPost: {'t': 8.5}, over limit of group up to t: 9.17\n",
      "------------------------------\n"
     ]
    }
   ],
   "source": [
    "testGroup1 = []\n",
    "testGroup2 = []\n",
    "\n",
    "for i in range(0, 20):\n",
    "    newPost = {'t': gen()}\n",
    "    print(f\"Adding: {newPost}\")\n",
    "    testGroup1 = addPost(testGroup1, newPost)\n",
    "    testGroup2 = addPostMultiCheck(testGroup2, newPost)\n",
    "    print(\"------------------------------\")\n",
    "    "
   ]
  },
  {
   "cell_type": "code",
   "execution_count": 23,
   "id": "fa47829d",
   "metadata": {},
   "outputs": [
    {
     "data": {
      "text/plain": [
       "[{'t': 1.04},\n",
       " {'t': 1.28},\n",
       " {'t': 1.31},\n",
       " {'t': 2.51},\n",
       " {'t': 3.68},\n",
       " {'t': 4.08},\n",
       " {'t': 4.35},\n",
       " {'t': 5.01},\n",
       " {'t': 5.36},\n",
       " {'t': 5.43},\n",
       " {'t': 6.59},\n",
       " {'t': 7.01},\n",
       " {'t': 7.09},\n",
       " {'t': 8.17},\n",
       " {'t': 8.62},\n",
       " {'t': 8.73},\n",
       " {'t': 8.95},\n",
       " {'t': 9.67}]"
      ]
     },
     "execution_count": 23,
     "metadata": {},
     "output_type": "execute_result"
    }
   ],
   "source": [
    "testGroup1"
   ]
  },
  {
   "cell_type": "code",
   "execution_count": 10,
   "id": "6b2710a2",
   "metadata": {},
   "outputs": [
    {
     "data": {
      "text/plain": [
       "[{'t': 2.17},\n",
       " {'t': 2.21},\n",
       " {'t': 2.36},\n",
       " {'t': 2.56},\n",
       " {'t': 4.0},\n",
       " {'t': 4.5},\n",
       " {'t': 4.71},\n",
       " {'t': 4.8},\n",
       " {'t': 5.48},\n",
       " {'t': 5.97},\n",
       " {'t': 7.05},\n",
       " {'t': 7.07},\n",
       " {'t': 7.83},\n",
       " {'t': 7.96},\n",
       " {'t': 8.41},\n",
       " {'t': 9.13},\n",
       " {'t': 9.84},\n",
       " {'t': 9.95}]"
      ]
     },
     "execution_count": 10,
     "metadata": {},
     "output_type": "execute_result"
    }
   ],
   "source": [
    "testGroup2"
   ]
  },
  {
   "cell_type": "code",
   "execution_count": 12,
   "id": "02409412",
   "metadata": {},
   "outputs": [
    {
     "data": {
      "text/plain": [
       "(0.0, 10.0)"
      ]
     },
     "execution_count": 12,
     "metadata": {},
     "output_type": "execute_result"
    },
    {
     "data": {
      "image/png": "[encoded data removed]",
      "text/plain": [
       "<Figure size 640x480 with 1 Axes>"
      ]
     },
     "metadata": {},
     "output_type": "display_data"
    }
   ],
   "source": [
    "import pandas as pd\n",
    "formatted = [{**x, 'a': 1} for x in testGroup1]\n",
    "formatted\n",
    "df = pd.DataFrame(data=formatted)\n",
    "ax = df.plot.scatter(x='t', y='a', title='Simple Checks')\n",
    "ax.set_xlim(0, 10)"
   ]
  },
  {
   "cell_type": "code",
   "execution_count": 15,
   "id": "e4484e4e",
   "metadata": {},
   "outputs": [
    {
     "name": "stdout",
     "output_type": "stream",
     "text": [
      "{'t': 2.17}\n",
      "postsBack: [{'t': 2.17}]\n",
      "postsAhead: [{'t': 2.17}, {'t': 2.21}, {'t': 2.36}, {'t': 2.56}]\n",
      "ERROR: post {'t': 2.17} over limit of lower time frame: [{'t': 2.17}, {'t': 2.21}, {'t': 2.36}, {'t': 2.56}]\n",
      "***********************\n",
      "{'t': 2.21}\n",
      "postsBack: [{'t': 2.17}, {'t': 2.21}]\n",
      "postsAhead: [{'t': 2.21}, {'t': 2.36}, {'t': 2.56}]\n",
      "***********************\n",
      "{'t': 2.36}\n",
      "postsBack: [{'t': 2.17}, {'t': 2.21}, {'t': 2.36}]\n",
      "postsAhead: [{'t': 2.36}, {'t': 2.56}]\n",
      "***********************\n",
      "{'t': 2.56}\n",
      "postsBack: [{'t': 2.17}, {'t': 2.21}, {'t': 2.36}, {'t': 2.56}]\n",
      "postsAhead: [{'t': 2.56}]\n",
      "ERROR: post {'t': 2.56} over limit of lower time frame: [{'t': 2.17}, {'t': 2.21}, {'t': 2.36}, {'t': 2.56}]\n",
      "***********************\n",
      "{'t': 4.0}\n",
      "postsBack: [{'t': 4.0}]\n",
      "postsAhead: [{'t': 4.0}, {'t': 4.5}, {'t': 4.71}, {'t': 4.8}]\n",
      "ERROR: post {'t': 4.0} over limit of lower time frame: [{'t': 4.0}, {'t': 4.5}, {'t': 4.71}, {'t': 4.8}]\n",
      "***********************\n",
      "{'t': 4.5}\n",
      "postsBack: [{'t': 4.0}, {'t': 4.5}]\n",
      "postsAhead: [{'t': 4.5}, {'t': 4.71}, {'t': 4.8}, {'t': 5.48}]\n",
      "ERROR: post {'t': 4.5} over limit of lower time frame: [{'t': 4.5}, {'t': 4.71}, {'t': 4.8}, {'t': 5.48}]\n",
      "***********************\n",
      "{'t': 4.71}\n",
      "postsBack: [{'t': 4.0}, {'t': 4.5}, {'t': 4.71}]\n",
      "postsAhead: [{'t': 4.71}, {'t': 4.8}, {'t': 5.48}]\n",
      "***********************\n",
      "{'t': 4.8}\n",
      "postsBack: [{'t': 4.0}, {'t': 4.5}, {'t': 4.71}, {'t': 4.8}]\n",
      "postsAhead: [{'t': 4.8}, {'t': 5.48}]\n",
      "ERROR: post {'t': 4.8} over limit of lower time frame: [{'t': 4.0}, {'t': 4.5}, {'t': 4.71}, {'t': 4.8}]\n",
      "***********************\n",
      "{'t': 5.48}\n",
      "postsBack: [{'t': 4.5}, {'t': 4.71}, {'t': 4.8}, {'t': 5.48}]\n",
      "postsAhead: [{'t': 5.48}, {'t': 5.97}]\n",
      "ERROR: post {'t': 5.48} over limit of lower time frame: [{'t': 4.5}, {'t': 4.71}, {'t': 4.8}, {'t': 5.48}]\n",
      "***********************\n",
      "{'t': 5.97}\n",
      "postsBack: [{'t': 5.48}, {'t': 5.97}]\n",
      "postsAhead: [{'t': 5.97}]\n",
      "***********************\n",
      "{'t': 7.05}\n",
      "postsBack: [{'t': 7.05}]\n",
      "postsAhead: [{'t': 7.05}, {'t': 7.07}, {'t': 7.83}, {'t': 7.96}]\n",
      "ERROR: post {'t': 7.05} over limit of lower time frame: [{'t': 7.05}, {'t': 7.07}, {'t': 7.83}, {'t': 7.96}]\n",
      "***********************\n",
      "{'t': 7.07}\n",
      "postsBack: [{'t': 7.05}, {'t': 7.07}]\n",
      "postsAhead: [{'t': 7.07}, {'t': 7.83}, {'t': 7.96}]\n",
      "***********************\n",
      "{'t': 7.83}\n",
      "postsBack: [{'t': 7.05}, {'t': 7.07}, {'t': 7.83}]\n",
      "postsAhead: [{'t': 7.83}, {'t': 7.96}, {'t': 8.41}]\n",
      "***********************\n",
      "{'t': 7.96}\n",
      "postsBack: [{'t': 7.05}, {'t': 7.07}, {'t': 7.83}, {'t': 7.96}]\n",
      "postsAhead: [{'t': 7.96}, {'t': 8.41}]\n",
      "ERROR: post {'t': 7.96} over limit of lower time frame: [{'t': 7.05}, {'t': 7.07}, {'t': 7.83}, {'t': 7.96}]\n",
      "***********************\n",
      "{'t': 8.41}\n",
      "postsBack: [{'t': 7.83}, {'t': 7.96}, {'t': 8.41}]\n",
      "postsAhead: [{'t': 8.41}, {'t': 9.13}]\n",
      "***********************\n",
      "{'t': 9.13}\n",
      "postsBack: [{'t': 8.41}, {'t': 9.13}]\n",
      "postsAhead: [{'t': 9.13}, {'t': 9.84}, {'t': 9.95}]\n",
      "***********************\n",
      "{'t': 9.84}\n",
      "postsBack: [{'t': 9.13}, {'t': 9.84}]\n",
      "postsAhead: [{'t': 9.84}, {'t': 9.95}]\n",
      "***********************\n",
      "{'t': 9.95}\n",
      "postsBack: [{'t': 9.13}, {'t': 9.84}, {'t': 9.95}]\n",
      "postsAhead: [{'t': 9.95}]\n",
      "***********************\n"
     ]
    }
   ],
   "source": [
    "checkPosts(testGroup1)"
   ]
  },
  {
   "cell_type": "code",
   "execution_count": 17,
   "id": "9ebca3eb",
   "metadata": {},
   "outputs": [
    {
     "data": {
      "text/plain": [
       "(0.0, 10.0)"
      ]
     },
     "execution_count": 17,
     "metadata": {},
     "output_type": "execute_result"
    },
    {
     "data": {
      "image/png": "[encoded data removed]",
      "text/plain": [
       "<Figure size 640x480 with 1 Axes>"
      ]
     },
     "metadata": {},
     "output_type": "display_data"
    }
   ],
   "source": [
    "formatted = [{**x, 'a': 1} for x in testGroup2]\n",
    "formatted\n",
    "df = pd.DataFrame(data=formatted)\n",
    "ax = df.plot.scatter(x='t', y='a', title='Multi Checks')\n",
    "ax.set_xlim(0, 10)"
   ]
  },
  {
   "cell_type": "code",
   "execution_count": 18,
   "id": "31260264",
   "metadata": {},
   "outputs": [
    {
     "name": "stdout",
     "output_type": "stream",
     "text": [
      "{'t': 2.17}\n",
      "postsBack: [{'t': 2.17}]\n",
      "postsAhead: [{'t': 2.17}, {'t': 2.21}, {'t': 2.36}, {'t': 2.56}]\n",
      "ERROR: post {'t': 2.17} over limit of lower time frame: [{'t': 2.17}, {'t': 2.21}, {'t': 2.36}, {'t': 2.56}]\n",
      "***********************\n",
      "{'t': 2.21}\n",
      "postsBack: [{'t': 2.17}, {'t': 2.21}]\n",
      "postsAhead: [{'t': 2.21}, {'t': 2.36}, {'t': 2.56}]\n",
      "***********************\n",
      "{'t': 2.36}\n",
      "postsBack: [{'t': 2.17}, {'t': 2.21}, {'t': 2.36}]\n",
      "postsAhead: [{'t': 2.36}, {'t': 2.56}]\n",
      "***********************\n",
      "{'t': 2.56}\n",
      "postsBack: [{'t': 2.17}, {'t': 2.21}, {'t': 2.36}, {'t': 2.56}]\n",
      "postsAhead: [{'t': 2.56}]\n",
      "ERROR: post {'t': 2.56} over limit of lower time frame: [{'t': 2.17}, {'t': 2.21}, {'t': 2.36}, {'t': 2.56}]\n",
      "***********************\n",
      "{'t': 4.0}\n",
      "postsBack: [{'t': 4.0}]\n",
      "postsAhead: [{'t': 4.0}, {'t': 4.5}, {'t': 4.71}, {'t': 4.8}]\n",
      "ERROR: post {'t': 4.0} over limit of lower time frame: [{'t': 4.0}, {'t': 4.5}, {'t': 4.71}, {'t': 4.8}]\n",
      "***********************\n",
      "{'t': 4.5}\n",
      "postsBack: [{'t': 4.0}, {'t': 4.5}]\n",
      "postsAhead: [{'t': 4.5}, {'t': 4.71}, {'t': 4.8}, {'t': 5.48}]\n",
      "ERROR: post {'t': 4.5} over limit of lower time frame: [{'t': 4.5}, {'t': 4.71}, {'t': 4.8}, {'t': 5.48}]\n",
      "***********************\n",
      "{'t': 4.71}\n",
      "postsBack: [{'t': 4.0}, {'t': 4.5}, {'t': 4.71}]\n",
      "postsAhead: [{'t': 4.71}, {'t': 4.8}, {'t': 5.48}]\n",
      "***********************\n",
      "{'t': 4.8}\n",
      "postsBack: [{'t': 4.0}, {'t': 4.5}, {'t': 4.71}, {'t': 4.8}]\n",
      "postsAhead: [{'t': 4.8}, {'t': 5.48}]\n",
      "ERROR: post {'t': 4.8} over limit of lower time frame: [{'t': 4.0}, {'t': 4.5}, {'t': 4.71}, {'t': 4.8}]\n",
      "***********************\n",
      "{'t': 5.48}\n",
      "postsBack: [{'t': 4.5}, {'t': 4.71}, {'t': 4.8}, {'t': 5.48}]\n",
      "postsAhead: [{'t': 5.48}, {'t': 5.97}]\n",
      "ERROR: post {'t': 5.48} over limit of lower time frame: [{'t': 4.5}, {'t': 4.71}, {'t': 4.8}, {'t': 5.48}]\n",
      "***********************\n",
      "{'t': 5.97}\n",
      "postsBack: [{'t': 5.48}, {'t': 5.97}]\n",
      "postsAhead: [{'t': 5.97}]\n",
      "***********************\n",
      "{'t': 7.05}\n",
      "postsBack: [{'t': 7.05}]\n",
      "postsAhead: [{'t': 7.05}, {'t': 7.07}, {'t': 7.83}, {'t': 7.96}]\n",
      "ERROR: post {'t': 7.05} over limit of lower time frame: [{'t': 7.05}, {'t': 7.07}, {'t': 7.83}, {'t': 7.96}]\n",
      "***********************\n",
      "{'t': 7.07}\n",
      "postsBack: [{'t': 7.05}, {'t': 7.07}]\n",
      "postsAhead: [{'t': 7.07}, {'t': 7.83}, {'t': 7.96}]\n",
      "***********************\n",
      "{'t': 7.83}\n",
      "postsBack: [{'t': 7.05}, {'t': 7.07}, {'t': 7.83}]\n",
      "postsAhead: [{'t': 7.83}, {'t': 7.96}, {'t': 8.41}]\n",
      "***********************\n",
      "{'t': 7.96}\n",
      "postsBack: [{'t': 7.05}, {'t': 7.07}, {'t': 7.83}, {'t': 7.96}]\n",
      "postsAhead: [{'t': 7.96}, {'t': 8.41}]\n",
      "ERROR: post {'t': 7.96} over limit of lower time frame: [{'t': 7.05}, {'t': 7.07}, {'t': 7.83}, {'t': 7.96}]\n",
      "***********************\n",
      "{'t': 8.41}\n",
      "postsBack: [{'t': 7.83}, {'t': 7.96}, {'t': 8.41}]\n",
      "postsAhead: [{'t': 8.41}, {'t': 9.13}]\n",
      "***********************\n",
      "{'t': 9.13}\n",
      "postsBack: [{'t': 8.41}, {'t': 9.13}]\n",
      "postsAhead: [{'t': 9.13}, {'t': 9.84}, {'t': 9.95}]\n",
      "***********************\n",
      "{'t': 9.84}\n",
      "postsBack: [{'t': 9.13}, {'t': 9.84}]\n",
      "postsAhead: [{'t': 9.84}, {'t': 9.95}]\n",
      "***********************\n",
      "{'t': 9.95}\n",
      "postsBack: [{'t': 9.13}, {'t': 9.84}, {'t': 9.95}]\n",
      "postsAhead: [{'t': 9.95}]\n",
      "***********************\n"
     ]
    }
   ],
   "source": [
    "checkPosts(testGroup2)"
   ]
  }
 ],
 "metadata": {
  "kernelspec": {
   "display_name": "Python 3 (ipykernel)",
   "language": "python",
   "name": "python3"
  },
  "language_info": {
   "codemirror_mode": {
    "name": "ipython",
    "version": 3
   },
   "file_extension": ".py",
   "mimetype": "text/x-python",
   "name": "python",
   "nbconvert_exporter": "python",
   "pygments_lexer": "ipython3",
   "version": "3.9.5"
  }
 },
 "nbformat": 4,
 "nbformat_minor": 5
}
